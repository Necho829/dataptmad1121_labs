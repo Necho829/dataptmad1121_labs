{
 "cells": [
  {
   "cell_type": "code",
   "execution_count": 1,
   "id": "3aa22fa4",
   "metadata": {},
   "outputs": [],
   "source": [
    "def calculator():\n",
    "    a = input('Please choose your first number (zero to five): ')\n",
    "    b = input('What do you want to do? plus or minus: ')\n",
    "    c = input('Please choose your second number (zero to five): ')\n",
    "    dicc_num = {'-five': -5, '-four' : -4 ,'-three' : 3 ,'-two' : -2 ,'-one': -1 ,'zero': 0 ,'one' : 1 , 'two' : 2 , 'three' : 3 , 'four' : 4 , 'five': 5 , 'six' : 6,'seven' : 7, 'eight' : 8 , 'nine' : 9 , 'ten' : 10}\n",
    "    num_a = dicc_num.get(a)\n",
    "    num_c = dicc_num.get(c) \n",
    "    if b == 'plus':\n",
    "        b = num_a + num_c  \n",
    "    elif b == 'minus':\n",
    "        b = num_a - num_c      \n",
    "    elif a.lower() not in dicc_num or c.lower() not in dicc_num or b.lower() != \"plus\" or  b.lower() !=\"minus\":\n",
    "        print('error')               \n",
    "    for i, y in dicc_num.items(): \n",
    "        if b == y:\n",
    "            return(i)\n",
    "    "
   ]
  },
  {
   "cell_type": "code",
   "execution_count": 2,
   "id": "cf41064e",
   "metadata": {},
   "outputs": [
    {
     "name": "stdout",
     "output_type": "stream",
     "text": [
      "Please choose your first number (zero to five): 4\n",
      "What do you want to do? plus or minus: 5\n",
      "Please choose your second number (zero to five): 5\n",
      "error\n"
     ]
    }
   ],
   "source": [
    "calculator()\n"
   ]
  },
  {
   "cell_type": "code",
   "execution_count": null,
   "id": "3447fcaf",
   "metadata": {},
   "outputs": [],
   "source": []
  },
  {
   "cell_type": "code",
   "execution_count": null,
   "id": "c7333da2",
   "metadata": {},
   "outputs": [],
   "source": []
  }
 ],
 "metadata": {
  "kernelspec": {
   "display_name": "Python 3 (ipykernel)",
   "language": "python",
   "name": "python3"
  },
  "language_info": {
   "codemirror_mode": {
    "name": "ipython",
    "version": 3
   },
   "file_extension": ".py",
   "mimetype": "text/x-python",
   "name": "python",
   "nbconvert_exporter": "python",
   "pygments_lexer": "ipython3",
   "version": "3.7.11"
  }
 },
 "nbformat": 4,
 "nbformat_minor": 5
}
