{
 "cells": [
  {
   "cell_type": "code",
   "execution_count": 9,
   "id": "7b0a0dff",
   "metadata": {},
   "outputs": [],
   "source": [
    "def my_function (n):\n",
    "    if n<=5:\n",
    "        return \"select a number greather than 5\" \n",
    "    else:\n",
    "        return max([max([x, y, z]) for z in range(3, n) for y in range(4, n) for x in range(5, n) if (x*x==y*y+z*z)])"
   ]
  },
  {
   "cell_type": "code",
   "execution_count": 10,
   "id": "1fee2ecc",
   "metadata": {},
   "outputs": [
    {
     "data": {
      "text/plain": [
       "89"
      ]
     },
     "execution_count": 10,
     "metadata": {},
     "output_type": "execute_result"
    }
   ],
   "source": [
    "my_function (90)\n"
   ]
  },
  {
   "cell_type": "code",
   "execution_count": null,
   "id": "415d40ec",
   "metadata": {},
   "outputs": [],
   "source": []
  }
 ],
 "metadata": {
  "kernelspec": {
   "display_name": "Python 3 (ipykernel)",
   "language": "python",
   "name": "python3"
  },
  "language_info": {
   "codemirror_mode": {
    "name": "ipython",
    "version": 3
   },
   "file_extension": ".py",
   "mimetype": "text/x-python",
   "name": "python",
   "nbconvert_exporter": "python",
   "pygments_lexer": "ipython3",
   "version": "3.7.11"
  }
 },
 "nbformat": 4,
 "nbformat_minor": 5
}
